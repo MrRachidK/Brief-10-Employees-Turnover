{
 "cells": [
  {
   "cell_type": "markdown",
   "metadata": {},
   "source": [
    "## Importation des modules nécessaires à l'élaboration du projet"
   ]
  },
  {
   "cell_type": "code",
   "execution_count": 1,
   "metadata": {},
   "outputs": [],
   "source": [
    "import pandas as pd \n",
    "import numpy as np\n",
    "from sklearn.linear_model import LogisticRegressionCV\n",
    "from sklearn.linear_model import LogisticRegression\n",
    "from sklearn.model_selection import train_test_split\n",
    "from sklearn.metrics import accuracy_score, f1_score, precision_score, recall_score, classification_report, confusion_matrix\n",
    "from sklearn import metrics\n",
    "import matplotlib.pyplot as plt\n",
    "import seaborn as sns\n",
    "%matplotlib inline"
   ]
  },
  {
   "cell_type": "markdown",
   "metadata": {},
   "source": [
    "## Examinons la donnée"
   ]
  },
  {
   "cell_type": "code",
   "execution_count": 2,
   "metadata": {},
   "outputs": [],
   "source": [
    "attrition_data_init = pd.read_csv('/home/apprenant/PycharmProjects/Brief-10-Employees-Turnover/data/attrition_train.csv')\n",
    "attrition_test_init = pd.read_csv('/home/apprenant/PycharmProjects/Brief-10-Employees-Turnover/data/attrition_test.csv')"
   ]
  },
  {
   "cell_type": "code",
   "execution_count": 3,
   "metadata": {},
   "outputs": [],
   "source": [
    "# on enleve les columns qui ne comprennent qu'une seule valeur, ainsi que le numéro d'employé.\n",
    "attrition_data = attrition_data_init.drop(['EmployeeCount','EmployeeNumber','Over18','StandardHours'], axis =1)\n",
    "attrition_test = attrition_test_init.drop(['EmployeeCount','EmployeeNumber','Over18','StandardHours'], axis =1)"
   ]
  },
  {
   "cell_type": "code",
   "execution_count": 4,
   "metadata": {},
   "outputs": [],
   "source": [
    "# le jeu de test comprend une colonne index qui n'est pas utile\n",
    "attrition_test = attrition_test.drop('index1', axis=1)"
   ]
  },
  {
   "cell_type": "markdown",
   "metadata": {},
   "source": [
    "#### Valeurs manquantes"
   ]
  },
  {
   "cell_type": "code",
   "execution_count": 5,
   "metadata": {},
   "outputs": [
    {
     "data": {
      "text/plain": [
       "0"
      ]
     },
     "execution_count": 5,
     "metadata": {},
     "output_type": "execute_result"
    }
   ],
   "source": [
    "attrition_data.isna().sum().sum()"
   ]
  },
  {
   "cell_type": "markdown",
   "metadata": {},
   "source": [
    "0 valeur manquante donc RAS"
   ]
  },
  {
   "cell_type": "markdown",
   "metadata": {},
   "source": [
    "#### Valeurs aberrantes"
   ]
  },
  {
   "cell_type": "code",
   "execution_count": 6,
   "metadata": {},
   "outputs": [],
   "source": [
    "df_quant = attrition_data.select_dtypes(include=['float64','int64'])\n",
    "df_cat = attrition_data.select_dtypes(include=['object'])"
   ]
  },
  {
   "cell_type": "code",
   "execution_count": 7,
   "metadata": {},
   "outputs": [
    {
     "data": {
      "text/html": [
       "<div>\n",
       "<style scoped>\n",
       "    .dataframe tbody tr th:only-of-type {\n",
       "        vertical-align: middle;\n",
       "    }\n",
       "\n",
       "    .dataframe tbody tr th {\n",
       "        vertical-align: top;\n",
       "    }\n",
       "\n",
       "    .dataframe thead th {\n",
       "        text-align: right;\n",
       "    }\n",
       "</style>\n",
       "<table border=\"1\" class=\"dataframe\">\n",
       "  <thead>\n",
       "    <tr style=\"text-align: right;\">\n",
       "      <th></th>\n",
       "      <th>Age</th>\n",
       "      <th>DailyRate</th>\n",
       "      <th>DistanceFromHome</th>\n",
       "      <th>Education</th>\n",
       "      <th>EnvironmentSatisfaction</th>\n",
       "      <th>HourlyRate</th>\n",
       "      <th>JobInvolvement</th>\n",
       "      <th>JobLevel</th>\n",
       "      <th>JobSatisfaction</th>\n",
       "      <th>MonthlyIncome</th>\n",
       "      <th>...</th>\n",
       "      <th>PerformanceRating</th>\n",
       "      <th>RelationshipSatisfaction</th>\n",
       "      <th>StockOptionLevel</th>\n",
       "      <th>TotalWorkingYears</th>\n",
       "      <th>TrainingTimesLastYear</th>\n",
       "      <th>WorkLifeBalance</th>\n",
       "      <th>YearsAtCompany</th>\n",
       "      <th>YearsInCurrentRole</th>\n",
       "      <th>YearsSinceLastPromotion</th>\n",
       "      <th>YearsWithCurrManager</th>\n",
       "    </tr>\n",
       "  </thead>\n",
       "  <tbody>\n",
       "    <tr>\n",
       "      <th>count</th>\n",
       "      <td>1100.000000</td>\n",
       "      <td>1100.000000</td>\n",
       "      <td>1100.000000</td>\n",
       "      <td>1100.000000</td>\n",
       "      <td>1100.000000</td>\n",
       "      <td>1100.000000</td>\n",
       "      <td>1100.000000</td>\n",
       "      <td>1100.000000</td>\n",
       "      <td>1100.000000</td>\n",
       "      <td>1100.000000</td>\n",
       "      <td>...</td>\n",
       "      <td>1100.000000</td>\n",
       "      <td>1100.000000</td>\n",
       "      <td>1100.000000</td>\n",
       "      <td>1100.000000</td>\n",
       "      <td>1100.000000</td>\n",
       "      <td>1100.000000</td>\n",
       "      <td>1100.000000</td>\n",
       "      <td>1100.000000</td>\n",
       "      <td>1100.000000</td>\n",
       "      <td>1100.000000</td>\n",
       "    </tr>\n",
       "    <tr>\n",
       "      <th>mean</th>\n",
       "      <td>36.854545</td>\n",
       "      <td>804.234545</td>\n",
       "      <td>9.301818</td>\n",
       "      <td>2.907273</td>\n",
       "      <td>2.730909</td>\n",
       "      <td>66.011818</td>\n",
       "      <td>2.707273</td>\n",
       "      <td>2.064545</td>\n",
       "      <td>2.737273</td>\n",
       "      <td>6536.102727</td>\n",
       "      <td>...</td>\n",
       "      <td>3.155455</td>\n",
       "      <td>2.697273</td>\n",
       "      <td>0.785455</td>\n",
       "      <td>11.206364</td>\n",
       "      <td>2.780909</td>\n",
       "      <td>2.780909</td>\n",
       "      <td>7.070000</td>\n",
       "      <td>4.250000</td>\n",
       "      <td>2.186364</td>\n",
       "      <td>4.199091</td>\n",
       "    </tr>\n",
       "    <tr>\n",
       "      <th>std</th>\n",
       "      <td>9.039229</td>\n",
       "      <td>405.583238</td>\n",
       "      <td>8.093392</td>\n",
       "      <td>1.012453</td>\n",
       "      <td>1.083564</td>\n",
       "      <td>20.374359</td>\n",
       "      <td>0.731298</td>\n",
       "      <td>1.115862</td>\n",
       "      <td>1.107125</td>\n",
       "      <td>4729.940355</td>\n",
       "      <td>...</td>\n",
       "      <td>0.362502</td>\n",
       "      <td>1.084338</td>\n",
       "      <td>0.848575</td>\n",
       "      <td>7.784761</td>\n",
       "      <td>1.309377</td>\n",
       "      <td>0.706269</td>\n",
       "      <td>6.147387</td>\n",
       "      <td>3.595094</td>\n",
       "      <td>3.234650</td>\n",
       "      <td>3.584848</td>\n",
       "    </tr>\n",
       "    <tr>\n",
       "      <th>min</th>\n",
       "      <td>18.000000</td>\n",
       "      <td>102.000000</td>\n",
       "      <td>1.000000</td>\n",
       "      <td>1.000000</td>\n",
       "      <td>1.000000</td>\n",
       "      <td>30.000000</td>\n",
       "      <td>1.000000</td>\n",
       "      <td>1.000000</td>\n",
       "      <td>1.000000</td>\n",
       "      <td>1051.000000</td>\n",
       "      <td>...</td>\n",
       "      <td>3.000000</td>\n",
       "      <td>1.000000</td>\n",
       "      <td>0.000000</td>\n",
       "      <td>0.000000</td>\n",
       "      <td>0.000000</td>\n",
       "      <td>1.000000</td>\n",
       "      <td>0.000000</td>\n",
       "      <td>0.000000</td>\n",
       "      <td>0.000000</td>\n",
       "      <td>0.000000</td>\n",
       "    </tr>\n",
       "    <tr>\n",
       "      <th>25%</th>\n",
       "      <td>30.000000</td>\n",
       "      <td>460.500000</td>\n",
       "      <td>2.000000</td>\n",
       "      <td>2.000000</td>\n",
       "      <td>2.000000</td>\n",
       "      <td>48.000000</td>\n",
       "      <td>2.000000</td>\n",
       "      <td>1.000000</td>\n",
       "      <td>2.000000</td>\n",
       "      <td>2906.500000</td>\n",
       "      <td>...</td>\n",
       "      <td>3.000000</td>\n",
       "      <td>2.000000</td>\n",
       "      <td>0.000000</td>\n",
       "      <td>6.000000</td>\n",
       "      <td>2.000000</td>\n",
       "      <td>2.000000</td>\n",
       "      <td>3.000000</td>\n",
       "      <td>2.000000</td>\n",
       "      <td>0.000000</td>\n",
       "      <td>2.000000</td>\n",
       "    </tr>\n",
       "    <tr>\n",
       "      <th>50%</th>\n",
       "      <td>36.000000</td>\n",
       "      <td>805.000000</td>\n",
       "      <td>7.000000</td>\n",
       "      <td>3.000000</td>\n",
       "      <td>3.000000</td>\n",
       "      <td>66.000000</td>\n",
       "      <td>3.000000</td>\n",
       "      <td>2.000000</td>\n",
       "      <td>3.000000</td>\n",
       "      <td>4938.500000</td>\n",
       "      <td>...</td>\n",
       "      <td>3.000000</td>\n",
       "      <td>3.000000</td>\n",
       "      <td>1.000000</td>\n",
       "      <td>9.000000</td>\n",
       "      <td>3.000000</td>\n",
       "      <td>3.000000</td>\n",
       "      <td>5.000000</td>\n",
       "      <td>3.000000</td>\n",
       "      <td>1.000000</td>\n",
       "      <td>3.000000</td>\n",
       "    </tr>\n",
       "    <tr>\n",
       "      <th>75%</th>\n",
       "      <td>42.250000</td>\n",
       "      <td>1162.000000</td>\n",
       "      <td>14.000000</td>\n",
       "      <td>4.000000</td>\n",
       "      <td>4.000000</td>\n",
       "      <td>84.000000</td>\n",
       "      <td>3.000000</td>\n",
       "      <td>3.000000</td>\n",
       "      <td>4.000000</td>\n",
       "      <td>8516.000000</td>\n",
       "      <td>...</td>\n",
       "      <td>3.000000</td>\n",
       "      <td>4.000000</td>\n",
       "      <td>1.000000</td>\n",
       "      <td>15.000000</td>\n",
       "      <td>3.000000</td>\n",
       "      <td>3.000000</td>\n",
       "      <td>9.000000</td>\n",
       "      <td>7.000000</td>\n",
       "      <td>3.000000</td>\n",
       "      <td>7.000000</td>\n",
       "    </tr>\n",
       "    <tr>\n",
       "      <th>max</th>\n",
       "      <td>60.000000</td>\n",
       "      <td>1498.000000</td>\n",
       "      <td>29.000000</td>\n",
       "      <td>5.000000</td>\n",
       "      <td>4.000000</td>\n",
       "      <td>100.000000</td>\n",
       "      <td>4.000000</td>\n",
       "      <td>5.000000</td>\n",
       "      <td>4.000000</td>\n",
       "      <td>19999.000000</td>\n",
       "      <td>...</td>\n",
       "      <td>4.000000</td>\n",
       "      <td>4.000000</td>\n",
       "      <td>3.000000</td>\n",
       "      <td>38.000000</td>\n",
       "      <td>6.000000</td>\n",
       "      <td>4.000000</td>\n",
       "      <td>37.000000</td>\n",
       "      <td>18.000000</td>\n",
       "      <td>15.000000</td>\n",
       "      <td>17.000000</td>\n",
       "    </tr>\n",
       "  </tbody>\n",
       "</table>\n",
       "<p>8 rows × 23 columns</p>\n",
       "</div>"
      ],
      "text/plain": [
       "               Age    DailyRate  DistanceFromHome    Education  \\\n",
       "count  1100.000000  1100.000000       1100.000000  1100.000000   \n",
       "mean     36.854545   804.234545          9.301818     2.907273   \n",
       "std       9.039229   405.583238          8.093392     1.012453   \n",
       "min      18.000000   102.000000          1.000000     1.000000   \n",
       "25%      30.000000   460.500000          2.000000     2.000000   \n",
       "50%      36.000000   805.000000          7.000000     3.000000   \n",
       "75%      42.250000  1162.000000         14.000000     4.000000   \n",
       "max      60.000000  1498.000000         29.000000     5.000000   \n",
       "\n",
       "       EnvironmentSatisfaction   HourlyRate  JobInvolvement     JobLevel  \\\n",
       "count              1100.000000  1100.000000     1100.000000  1100.000000   \n",
       "mean                  2.730909    66.011818        2.707273     2.064545   \n",
       "std                   1.083564    20.374359        0.731298     1.115862   \n",
       "min                   1.000000    30.000000        1.000000     1.000000   \n",
       "25%                   2.000000    48.000000        2.000000     1.000000   \n",
       "50%                   3.000000    66.000000        3.000000     2.000000   \n",
       "75%                   4.000000    84.000000        3.000000     3.000000   \n",
       "max                   4.000000   100.000000        4.000000     5.000000   \n",
       "\n",
       "       JobSatisfaction  MonthlyIncome  ...  PerformanceRating  \\\n",
       "count      1100.000000    1100.000000  ...        1100.000000   \n",
       "mean          2.737273    6536.102727  ...           3.155455   \n",
       "std           1.107125    4729.940355  ...           0.362502   \n",
       "min           1.000000    1051.000000  ...           3.000000   \n",
       "25%           2.000000    2906.500000  ...           3.000000   \n",
       "50%           3.000000    4938.500000  ...           3.000000   \n",
       "75%           4.000000    8516.000000  ...           3.000000   \n",
       "max           4.000000   19999.000000  ...           4.000000   \n",
       "\n",
       "       RelationshipSatisfaction  StockOptionLevel  TotalWorkingYears  \\\n",
       "count               1100.000000       1100.000000        1100.000000   \n",
       "mean                   2.697273          0.785455          11.206364   \n",
       "std                    1.084338          0.848575           7.784761   \n",
       "min                    1.000000          0.000000           0.000000   \n",
       "25%                    2.000000          0.000000           6.000000   \n",
       "50%                    3.000000          1.000000           9.000000   \n",
       "75%                    4.000000          1.000000          15.000000   \n",
       "max                    4.000000          3.000000          38.000000   \n",
       "\n",
       "       TrainingTimesLastYear  WorkLifeBalance  YearsAtCompany  \\\n",
       "count            1100.000000      1100.000000     1100.000000   \n",
       "mean                2.780909         2.780909        7.070000   \n",
       "std                 1.309377         0.706269        6.147387   \n",
       "min                 0.000000         1.000000        0.000000   \n",
       "25%                 2.000000         2.000000        3.000000   \n",
       "50%                 3.000000         3.000000        5.000000   \n",
       "75%                 3.000000         3.000000        9.000000   \n",
       "max                 6.000000         4.000000       37.000000   \n",
       "\n",
       "       YearsInCurrentRole  YearsSinceLastPromotion  YearsWithCurrManager  \n",
       "count         1100.000000              1100.000000           1100.000000  \n",
       "mean             4.250000                 2.186364              4.199091  \n",
       "std              3.595094                 3.234650              3.584848  \n",
       "min              0.000000                 0.000000              0.000000  \n",
       "25%              2.000000                 0.000000              2.000000  \n",
       "50%              3.000000                 1.000000              3.000000  \n",
       "75%              7.000000                 3.000000              7.000000  \n",
       "max             18.000000                15.000000             17.000000  \n",
       "\n",
       "[8 rows x 23 columns]"
      ]
     },
     "execution_count": 7,
     "metadata": {},
     "output_type": "execute_result"
    }
   ],
   "source": [
    "df_quant.describe()"
   ]
  },
  {
   "cell_type": "code",
   "execution_count": 8,
   "metadata": {},
   "outputs": [
    {
     "data": {
      "image/png": "[encoded data removed]",
      "text/plain": [
       "<Figure size 1080x720 with 1 Axes>"
      ]
     },
     "metadata": {
      "needs_background": "light"
     },
     "output_type": "display_data"
    }
   ],
   "source": [
    "# La seule variable qui pourrait présenter des valeurs aberrantes est DailyRate\n",
    "x = df_quant.index\n",
    "y = df_quant.TotalWorkingYears\n",
    "\n",
    "plt.figure(figsize=(15, 10))\n",
    "plt.scatter(x, y)\n",
    "plt.ylabel('TotalWorkingYears')\n",
    "plt.xlabel('individu')\n",
    "plt.show()"
   ]
  },
  {
   "cell_type": "markdown",
   "metadata": {},
   "source": [
    "Il n'y a pas de valeurs quantitative aberrantes"
   ]
  },
  {
   "cell_type": "code",
   "execution_count": 9,
   "metadata": {},
   "outputs": [
    {
     "name": "stdout",
     "output_type": "stream",
     "text": [
      "columns:  Attrition\n",
      "['No' 'Yes']\n",
      "columns:  BusinessTravel\n",
      "['Travel_Frequently' 'Non-Travel' 'Travel_Rarely']\n",
      "columns:  Department\n",
      "['Research & Development' 'Sales' 'Human Resources']\n",
      "columns:  EducationField\n",
      "['Life Sciences' 'Medical' 'Human Resources' 'Other' 'Marketing'\n",
      " 'Technical Degree']\n",
      "columns:  Gender\n",
      "['Female' 'Male']\n",
      "columns:  JobRole\n",
      "['Manufacturing Director' 'Laboratory Technician' 'Research Director'\n",
      " 'Research Scientist' 'Sales Executive' 'Healthcare Representative'\n",
      " 'Manager' 'Sales Representative' 'Human Resources']\n",
      "columns:  MaritalStatus\n",
      "['Single' 'Married' 'Divorced']\n",
      "columns:  OverTime\n",
      "['Yes' 'No']\n"
     ]
    }
   ],
   "source": [
    "# On vérifie les valeurs categorielles pour observer la présence de valeurs aberrantes\n",
    "for col in df_cat.columns:\n",
    "    print(\"columns: \",col)\n",
    "    print(df_cat[col].unique())"
   ]
  },
  {
   "cell_type": "markdown",
   "metadata": {},
   "source": [
    "il n'y a pas de valeurs categorielles aberrantes."
   ]
  },
  {
   "cell_type": "markdown",
   "metadata": {},
   "source": [
    "#### les variables à 2 valeurs peuvent être modifiée en quantitatives"
   ]
  },
  {
   "cell_type": "code",
   "execution_count": 10,
   "metadata": {},
   "outputs": [],
   "source": [
    "attrition_data[\"OverTime\"] = attrition_data[\"OverTime\"].map(dict(Yes=1, No=0)).astype('int64')"
   ]
  },
  {
   "cell_type": "code",
   "execution_count": 11,
   "metadata": {},
   "outputs": [],
   "source": [
    "attrition_data[\"Gender\"] = attrition_data[\"Gender\"].map(dict(Male=1, Female=0)).astype('int64')"
   ]
  },
  {
   "cell_type": "markdown",
   "metadata": {},
   "source": [
    "## Création de notre modèle"
   ]
  },
  {
   "cell_type": "markdown",
   "metadata": {},
   "source": [
    "### Encodage de nos variables catégorielles"
   ]
  },
  {
   "cell_type": "code",
   "execution_count": 12,
   "metadata": {},
   "outputs": [],
   "source": [
    "cat_vars = ['BusinessTravel', 'Department', 'EducationField', 'JobRole', 'MaritalStatus']\n",
    "\n",
    "for var in cat_vars:\n",
    "    cat_list='var'+'_'+var\n",
    "    cat_list = pd.get_dummies(attrition_data[var], prefix=var)\n",
    "    data1=attrition_data.join(cat_list)\n",
    "    attrition_data=data1\n",
    "\n",
    "for var in cat_vars:\n",
    "    cat_list2='var'+'_'+var\n",
    "    cat_list2 = pd.get_dummies(attrition_test[var], prefix=var)\n",
    "    data2=attrition_test.join(cat_list2)\n",
    "    attrition_test=data2"
   ]
  },
  {
   "cell_type": "code",
   "execution_count": 13,
   "metadata": {},
   "outputs": [],
   "source": [
    "# from sklearn import preprocessing\n",
    "\n",
    "# cat_vars = ['BusinessTravel', 'Department', 'EducationField', 'Gender', 'JobRole', 'MaritalStatus', 'OverTime']\n",
    "\n",
    "# label_encoding = preprocessing.LabelEncoder()\n",
    "\n",
    "# for var in cat_vars:\n",
    "#     attrition_data['{}_Cat'.format(var)] = label_encoding.fit_transform(attrition_data[var])\n",
    "\n",
    "# cat_vars2 = ['BusinessTravel', 'Department', 'EducationField', 'Gender', 'JobRole', 'MaritalStatus', 'OverTime']\n",
    "\n",
    "# for var in cat_vars2:\n",
    "#     attrition_test['{}_Cat'.format(var)] = label_encoding.fit_transform(attrition_test[var])"
   ]
  },
  {
   "cell_type": "code",
   "execution_count": 14,
   "metadata": {},
   "outputs": [],
   "source": [
    "attrition_data_numbers = attrition_data.drop(cat_vars, axis=1)"
   ]
  },
  {
   "cell_type": "code",
   "execution_count": 15,
   "metadata": {},
   "outputs": [],
   "source": [
    "attrition_test_numbers = attrition_test.drop(cat_vars, axis=1)"
   ]
  },
  {
   "cell_type": "code",
   "execution_count": 16,
   "metadata": {},
   "outputs": [],
   "source": [
    "attrition_data['Attrition'] = attrition_data['Attrition'].replace(['Yes', 'No'], [1, 0])\n",
    "attrition_data_numbers = attrition_data_numbers.drop('Attrition', axis=1)"
   ]
  },
  {
   "cell_type": "code",
   "execution_count": 17,
   "metadata": {},
   "outputs": [],
   "source": [
    "columns_list = attrition_data_numbers.columns"
   ]
  },
  {
   "cell_type": "markdown",
   "metadata": {},
   "source": [
    "## scaling"
   ]
  },
  {
   "cell_type": "code",
   "execution_count": 18,
   "metadata": {},
   "outputs": [
    {
     "data": {
      "image/png": "[encoded data removed]",
      "text/plain": [
       "<Figure size 1152x360 with 1 Axes>"
      ]
     },
     "metadata": {
      "needs_background": "light"
     },
     "output_type": "display_data"
    }
   ],
   "source": [
    "fig, a = plt.subplots(ncols=1, figsize=(16, 5))\n",
    "a.set_title(\"Distributions\")\n",
    "for col in columns_list:\n",
    "    sns.kdeplot(attrition_data_numbers[col], ax=a)\n",
    "plt.show()"
   ]
  },
  {
   "cell_type": "code",
   "execution_count": 19,
   "metadata": {},
   "outputs": [
    {
     "data": {
      "image/png": "[encoded data removed]",
      "text/plain": [
       "<Figure size 1152x360 with 1 Axes>"
      ]
     },
     "metadata": {
      "needs_background": "light"
     },
     "output_type": "display_data"
    }
   ],
   "source": [
    "from sklearn.preprocessing import StandardScaler,MaxAbsScaler, MinMaxScaler,RobustScaler\n",
    "\n",
    "# scaler = MaxAbsScaler()\n",
    "# scaler = MinMaxScaler()\n",
    "# scaler = StandardScaler()\n",
    "scaler = RobustScaler()\n",
    "\n",
    "scaled_df = scaler.fit_transform(attrition_data_numbers)\n",
    "scaled_df = pd.DataFrame(scaled_df, columns=columns_list)\n",
    "\n",
    "fig, a = plt.subplots(ncols=1, figsize=(16, 5))\n",
    "a.set_title(\"Distributions\")\n",
    "for col in scaled_df.columns:\n",
    "    sns.kdeplot(scaled_df[col], ax=a)\n",
    "plt.show()"
   ]
  },
  {
   "cell_type": "code",
   "execution_count": 20,
   "metadata": {},
   "outputs": [],
   "source": [
    "attrition_data_numbers = scaled_df"
   ]
  },
  {
   "cell_type": "markdown",
   "metadata": {},
   "source": [
    "### Mise en place de notre modèle de régression logistique"
   ]
  },
  {
   "cell_type": "code",
   "execution_count": 21,
   "metadata": {},
   "outputs": [],
   "source": [
    "y = attrition_data['Attrition']\n",
    "X = attrition_data_numbers\n",
    "X_pred = attrition_test_numbers\n",
    "X_train, X_test, y_train, y_test = train_test_split(X, y, test_size = 0.2, random_state = 0)"
   ]
  },
  {
   "cell_type": "code",
   "execution_count": 22,
   "metadata": {},
   "outputs": [],
   "source": [
    "my_model = LogisticRegressionCV(Cs = 10, cv=5, penalty = 'l2',solver='liblinear')"
   ]
  },
  {
   "cell_type": "code",
   "execution_count": 23,
   "metadata": {},
   "outputs": [
    {
     "data": {
      "text/plain": [
       "LogisticRegressionCV(cv=5, solver='liblinear')"
      ]
     },
     "execution_count": 23,
     "metadata": {},
     "output_type": "execute_result"
    }
   ],
   "source": [
    "my_model.fit(X_train, y_train)"
   ]
  },
  {
   "cell_type": "code",
   "execution_count": 24,
   "metadata": {},
   "outputs": [],
   "source": [
    "prediction = my_model.predict(X_test)"
   ]
  },
  {
   "cell_type": "code",
   "execution_count": 25,
   "metadata": {},
   "outputs": [
    {
     "name": "stdout",
     "output_type": "stream",
     "text": [
      "Test Accuracy Score : 0.8681818181818182\n"
     ]
    }
   ],
   "source": [
    "score = my_model.score(X_test, y_test)\n",
    "print('Test Accuracy Score :', score)"
   ]
  },
  {
   "cell_type": "code",
   "execution_count": 26,
   "metadata": {},
   "outputs": [
    {
     "name": "stdout",
     "output_type": "stream",
     "text": [
      "F-mesure : 0.724036506769324\n"
     ]
    }
   ],
   "source": [
    "print('F-mesure :', f1_score(y_test,prediction, average=\"macro\"))"
   ]
  },
  {
   "cell_type": "code",
   "execution_count": 27,
   "metadata": {},
   "outputs": [
    {
     "data": {
      "text/plain": [
       "array([[175,   9],\n",
       "       [ 20,  16]])"
      ]
     },
     "execution_count": 27,
     "metadata": {},
     "output_type": "execute_result"
    }
   ],
   "source": [
    "cnf_matrix = metrics.confusion_matrix(y_test, prediction)\n",
    "cnf_matrix"
   ]
  },
  {
   "cell_type": "code",
   "execution_count": 28,
   "metadata": {},
   "outputs": [
    {
     "data": {
      "text/plain": [
       "Text(0.5, 257.44, 'Predicted label')"
      ]
     },
     "execution_count": 28,
     "metadata": {},
     "output_type": "execute_result"
    },
    {
     "data": {
      "image/png": "[encoded data removed]",
      "text/plain": [
       "<Figure size 432x288 with 2 Axes>"
      ]
     },
     "metadata": {
      "needs_background": "light"
     },
     "output_type": "display_data"
    }
   ],
   "source": [
    "class_names=[0,1] # name  of classes\n",
    "fig, ax = plt.subplots()\n",
    "tick_marks = np.arange(len(class_names))\n",
    "plt.xticks(tick_marks, class_names)\n",
    "plt.yticks(tick_marks, class_names)\n",
    "# create heatmap\n",
    "sns.heatmap(pd.DataFrame(cnf_matrix), annot=True, cmap=\"Reds\" ,fmt='g')\n",
    "ax.xaxis.set_label_position(\"top\")\n",
    "plt.tight_layout()\n",
    "plt.title('Confusion matrix', y=1.1)\n",
    "plt.ylabel('Actual label')\n",
    "plt.xlabel('Predicted label')"
   ]
  },
  {
   "cell_type": "markdown",
   "metadata": {},
   "source": [
    "### ROC"
   ]
  },
  {
   "cell_type": "code",
   "execution_count": 29,
   "metadata": {},
   "outputs": [
    {
     "name": "stdout",
     "output_type": "stream",
     "text": [
      "No Skill: ROC AUC=0.500\n",
      "Logistic: ROC AUC=0.845\n"
     ]
    },
    {
     "data": {
      "image/png": "[encoded data removed]",
      "text/plain": [
       "<Figure size 432x288 with 1 Axes>"
      ]
     },
     "metadata": {
      "needs_background": "light"
     },
     "output_type": "display_data"
    }
   ],
   "source": [
    "from sklearn.metrics import roc_curve\n",
    "from sklearn.metrics import roc_auc_score\n",
    "\n",
    "# split into train/test sets\n",
    "trainX, testX, trainy, testy = train_test_split(X, y, test_size=0.5, random_state=2)\n",
    "# generate a no skill prediction (majority class)\n",
    "ns_probs = [0 for _ in range(len(testy))]\n",
    "# fit a model\n",
    "my_model.fit(trainX, trainy)\n",
    "# predict probabilities\n",
    "lr_probs = my_model.predict_proba(testX)\n",
    "# keep probabilities for the positive outcome only\n",
    "lr_probs = lr_probs[:, 1]\n",
    "# calculate scores\n",
    "ns_auc = roc_auc_score(testy, ns_probs)\n",
    "lr_auc = roc_auc_score(testy, lr_probs)\n",
    "# summarize scores\n",
    "print('No Skill: ROC AUC=%.3f' % (ns_auc))\n",
    "print('Logistic: ROC AUC=%.3f' % (lr_auc))\n",
    "# calculate roc curves\n",
    "ns_fpr, ns_tpr, _ = roc_curve(testy, ns_probs)\n",
    "lr_fpr, lr_tpr, _ = roc_curve(testy, lr_probs)\n",
    "# plot the roc curve for the model\n",
    "plt.plot(ns_fpr, ns_tpr, linestyle='--', label='No Skill')\n",
    "plt.plot(lr_fpr, lr_tpr, marker='.', label='Logistic')\n",
    "# axis labels\n",
    "plt.xlabel('False Positive Rate')\n",
    "plt.ylabel('True Positive Rate')\n",
    "# show the legend\n",
    "plt.legend()\n",
    "# show the plot\n",
    "plt.show()\n"
   ]
  },
  {
   "cell_type": "markdown",
   "metadata": {},
   "source": [
    "### RFE"
   ]
  },
  {
   "cell_type": "code",
   "execution_count": 30,
   "metadata": {},
   "outputs": [],
   "source": [
    "from sklearn.feature_selection import RFECV\n",
    "from sklearn.model_selection import StratifiedKFold"
   ]
  },
  {
   "cell_type": "code",
   "execution_count": 31,
   "metadata": {},
   "outputs": [
    {
     "data": {
      "text/plain": [
       "array([[-0.41666667, -1.        , -1.        , ...,  0.        ,\n",
       "         0.        ,  0.        ],\n",
       "       [ 1.75      ,  0.5       , -1.        , ...,  0.        ,\n",
       "         0.        ,  1.        ],\n",
       "       [-0.5       ,  0.        , -1.        , ...,  0.        ,\n",
       "         0.        ,  1.        ],\n",
       "       ...,\n",
       "       [ 0.08333333,  0.5       ,  0.        , ...,  0.        ,\n",
       "         0.        ,  0.        ],\n",
       "       [-0.5       ,  0.5       ,  0.        , ...,  0.        ,\n",
       "         0.        ,  1.        ],\n",
       "       [ 0.        ,  0.        , -1.        , ...,  0.        ,\n",
       "         0.        ,  1.        ]])"
      ]
     },
     "execution_count": 31,
     "metadata": {},
     "output_type": "execute_result"
    }
   ],
   "source": [
    "# Create the RFE object and compute a cross-validated score.\n",
    "svc = LogisticRegressionCV(Cs = 10, cv=5, penalty = 'l2',solver='liblinear')\n",
    "\n",
    "\n",
    "rfecv = RFECV(estimator=svc, step=1, cv=StratifiedKFold(5),\n",
    "              scoring='accuracy',\n",
    "              min_features_to_select=1)\n",
    "rfecv.fit_transform(X, y)\n",
    "\n",
    "# print(rfecv.grid_scores_)\n",
    "# print(len(rfecv.grid_scores_))"
   ]
  },
  {
   "cell_type": "code",
   "execution_count": 32,
   "metadata": {},
   "outputs": [
    {
     "data": {
      "image/png": "[encoded data removed]",
      "text/plain": [
       "<Figure size 432x288 with 1 Axes>"
      ]
     },
     "metadata": {
      "needs_background": "light"
     },
     "output_type": "display_data"
    }
   ],
   "source": [
    "# Plot number of features VS. cross-validation scores\n",
    "plt.figure()\n",
    "plt.xlabel(\"Number of features selected\")\n",
    "plt.ylabel(\"Cross validation score (nb of correct classifications)\")\n",
    "plt.plot(range(1, len(rfecv.grid_scores_) + 1), rfecv.grid_scores_)\n",
    "plt.show()"
   ]
  },
  {
   "cell_type": "code",
   "execution_count": 33,
   "metadata": {},
   "outputs": [
    {
     "name": "stdout",
     "output_type": "stream",
     "text": [
      "The fitted estimator used to select features:  LogisticRegressionCV(cv=5, solver='liblinear')\n",
      "The mean cross-validation score:  0.872430426716141\n"
     ]
    }
   ],
   "source": [
    "print(\"The fitted estimator used to select features: \",rfecv.estimator_)\n",
    "print(\"The mean cross-validation score: \", rfecv.grid_scores_.mean())"
   ]
  },
  {
   "cell_type": "code",
   "execution_count": 34,
   "metadata": {},
   "outputs": [
    {
     "name": "stdout",
     "output_type": "stream",
     "text": [
      "Optimal number of features in X_RFE : 27\n",
      "The importances of features:  [[ 0.40557309 -0.81870317  0.42718246 -0.55361224 -0.63279478 -0.44510365\n",
      "   0.37663241  1.63451897 -0.52751229 -0.25424346 -0.4317952  -0.23128241\n",
      "  -0.44313604  0.49541692 -0.3269616  -0.80171353  0.7123635  -0.55254931\n",
      "  -0.58774649 -0.649821   -0.47157271 -0.57132972 -0.40008323 -0.6185624\n",
      "   0.76176484 -0.76297001 -0.63061459]]\n"
     ]
    }
   ],
   "source": [
    "print(\"Optimal number of features in X_RFE : %d\" % rfecv.n_features_)\n",
    "print(\"The importances of features: \",rfecv.estimator_.coef_)"
   ]
  },
  {
   "cell_type": "code",
   "execution_count": 35,
   "metadata": {},
   "outputs": [
    {
     "name": "stdout",
     "output_type": "stream",
     "text": [
      "The mask of selected features.:  [False False  True False  True  True False  True False  True  True False\n",
      "  True  True False False  True  True  True False  True False  True  True\n",
      "  True  True  True False False False False False  True False  True  True\n",
      " False  True False False False  True  True  True False  True  True  True\n",
      " False]\n"
     ]
    },
    {
     "data": {
      "text/plain": [
       "Rank \n",
       "True     27\n",
       "False    22\n",
       "dtype: int64"
      ]
     },
     "execution_count": 35,
     "metadata": {},
     "output_type": "execute_result"
    }
   ],
   "source": [
    "# print(\"The feature ranking: \",rfecv.ranking_)\n",
    "print(\"The mask of selected features.: \",rfecv.support_)\n",
    "df =pd.DataFrame(rfecv.support_,index=columns_list,columns=['Rank'])\n",
    "df.value_counts()"
   ]
  },
  {
   "cell_type": "code",
   "execution_count": 36,
   "metadata": {},
   "outputs": [],
   "source": [
    "df = df[df['Rank']==True]\n",
    "rfecv_cols_to_keep = df.index"
   ]
  },
  {
   "cell_type": "code",
   "execution_count": 37,
   "metadata": {},
   "outputs": [
    {
     "name": "stdout",
     "output_type": "stream",
     "text": [
      "[0.4055730865845319, 0.8187031668164639, 0.42718246474619753, 0.5536122374313253, 0.6327947786250426, 0.4451036549370529, 0.3766324082298149, 1.634518968431834, 0.527512289103583, 0.25424345587148806, 0.43179520239032726, 0.23128240846427872, 0.4431360355185272, 0.4954169205326959, 0.3269616004372322, 0.801713526546176, 0.7123634984143307, 0.5525493094417862, 0.5877464946368287, 0.6498209975237909, 0.47157271157367575, 0.5713297247339909, 0.40008322743937735, 0.6185623966013218, 0.7617648441319839, 0.762970013857755, 0.630614586694371]\n"
     ]
    }
   ],
   "source": [
    "new_list = []\n",
    "new_list2 =[]\n",
    "arr = rfecv.estimator_.coef_.tolist()\n",
    "\n",
    "for i,x in enumerate(arr):\n",
    "    for y in x: \n",
    "        Y =abs(y)\n",
    "        new_list.append(Y)\n",
    "        if y >0 :\n",
    "            new_list2.append(\"+\")\n",
    "        else :\n",
    "            new_list2.append(\"-\")\n",
    "\n",
    "print(new_list)"
   ]
  },
  {
   "cell_type": "code",
   "execution_count": 38,
   "metadata": {},
   "outputs": [
    {
     "data": {
      "text/html": [
       "<div>\n",
       "<style scoped>\n",
       "    .dataframe tbody tr th:only-of-type {\n",
       "        vertical-align: middle;\n",
       "    }\n",
       "\n",
       "    .dataframe tbody tr th {\n",
       "        vertical-align: top;\n",
       "    }\n",
       "\n",
       "    .dataframe thead th {\n",
       "        text-align: right;\n",
       "    }\n",
       "</style>\n",
       "<table border=\"1\" class=\"dataframe\">\n",
       "  <thead>\n",
       "    <tr style=\"text-align: right;\">\n",
       "      <th></th>\n",
       "      <th>coef</th>\n",
       "      <th>role</th>\n",
       "    </tr>\n",
       "  </thead>\n",
       "  <tbody>\n",
       "    <tr>\n",
       "      <th>OverTime</th>\n",
       "      <td>1.634519</td>\n",
       "      <td>+</td>\n",
       "    </tr>\n",
       "    <tr>\n",
       "      <th>EnvironmentSatisfaction</th>\n",
       "      <td>0.818703</td>\n",
       "      <td>-</td>\n",
       "    </tr>\n",
       "    <tr>\n",
       "      <th>BusinessTravel_Non-Travel</th>\n",
       "      <td>0.801714</td>\n",
       "      <td>-</td>\n",
       "    </tr>\n",
       "    <tr>\n",
       "      <th>MaritalStatus_Divorced</th>\n",
       "      <td>0.762970</td>\n",
       "      <td>-</td>\n",
       "    </tr>\n",
       "    <tr>\n",
       "      <th>JobRole_Sales Representative</th>\n",
       "      <td>0.761765</td>\n",
       "      <td>+</td>\n",
       "    </tr>\n",
       "    <tr>\n",
       "      <th>BusinessTravel_Travel_Frequently</th>\n",
       "      <td>0.712363</td>\n",
       "      <td>+</td>\n",
       "    </tr>\n",
       "    <tr>\n",
       "      <th>EducationField_Other</th>\n",
       "      <td>0.649821</td>\n",
       "      <td>-</td>\n",
       "    </tr>\n",
       "    <tr>\n",
       "      <th>JobSatisfaction</th>\n",
       "      <td>0.632795</td>\n",
       "      <td>-</td>\n",
       "    </tr>\n",
       "    <tr>\n",
       "      <th>MaritalStatus_Married</th>\n",
       "      <td>0.630615</td>\n",
       "      <td>-</td>\n",
       "    </tr>\n",
       "    <tr>\n",
       "      <th>JobRole_Research Scientist</th>\n",
       "      <td>0.618562</td>\n",
       "      <td>-</td>\n",
       "    </tr>\n",
       "    <tr>\n",
       "      <th>EducationField_Medical</th>\n",
       "      <td>0.587746</td>\n",
       "      <td>-</td>\n",
       "    </tr>\n",
       "    <tr>\n",
       "      <th>JobRole_Manufacturing Director</th>\n",
       "      <td>0.571330</td>\n",
       "      <td>-</td>\n",
       "    </tr>\n",
       "    <tr>\n",
       "      <th>JobInvolvement</th>\n",
       "      <td>0.553612</td>\n",
       "      <td>-</td>\n",
       "    </tr>\n",
       "    <tr>\n",
       "      <th>EducationField_Life Sciences</th>\n",
       "      <td>0.552549</td>\n",
       "      <td>-</td>\n",
       "    </tr>\n",
       "    <tr>\n",
       "      <th>RelationshipSatisfaction</th>\n",
       "      <td>0.527512</td>\n",
       "      <td>-</td>\n",
       "    </tr>\n",
       "    <tr>\n",
       "      <th>YearsSinceLastPromotion</th>\n",
       "      <td>0.495417</td>\n",
       "      <td>+</td>\n",
       "    </tr>\n",
       "    <tr>\n",
       "      <th>JobRole_Healthcare Representative</th>\n",
       "      <td>0.471573</td>\n",
       "      <td>-</td>\n",
       "    </tr>\n",
       "    <tr>\n",
       "      <th>MonthlyIncome</th>\n",
       "      <td>0.445104</td>\n",
       "      <td>-</td>\n",
       "    </tr>\n",
       "    <tr>\n",
       "      <th>YearsInCurrentRole</th>\n",
       "      <td>0.443136</td>\n",
       "      <td>-</td>\n",
       "    </tr>\n",
       "    <tr>\n",
       "      <th>TotalWorkingYears</th>\n",
       "      <td>0.431795</td>\n",
       "      <td>-</td>\n",
       "    </tr>\n",
       "    <tr>\n",
       "      <th>Gender</th>\n",
       "      <td>0.427182</td>\n",
       "      <td>+</td>\n",
       "    </tr>\n",
       "    <tr>\n",
       "      <th>DistanceFromHome</th>\n",
       "      <td>0.405573</td>\n",
       "      <td>+</td>\n",
       "    </tr>\n",
       "    <tr>\n",
       "      <th>JobRole_Research Director</th>\n",
       "      <td>0.400083</td>\n",
       "      <td>-</td>\n",
       "    </tr>\n",
       "    <tr>\n",
       "      <th>NumCompaniesWorked</th>\n",
       "      <td>0.376632</td>\n",
       "      <td>+</td>\n",
       "    </tr>\n",
       "    <tr>\n",
       "      <th>YearsWithCurrManager</th>\n",
       "      <td>0.326962</td>\n",
       "      <td>-</td>\n",
       "    </tr>\n",
       "    <tr>\n",
       "      <th>StockOptionLevel</th>\n",
       "      <td>0.254243</td>\n",
       "      <td>-</td>\n",
       "    </tr>\n",
       "    <tr>\n",
       "      <th>WorkLifeBalance</th>\n",
       "      <td>0.231282</td>\n",
       "      <td>-</td>\n",
       "    </tr>\n",
       "  </tbody>\n",
       "</table>\n",
       "</div>"
      ],
      "text/plain": [
       "                                       coef role\n",
       "OverTime                           1.634519    +\n",
       "EnvironmentSatisfaction            0.818703    -\n",
       "BusinessTravel_Non-Travel          0.801714    -\n",
       "MaritalStatus_Divorced             0.762970    -\n",
       "JobRole_Sales Representative       0.761765    +\n",
       "BusinessTravel_Travel_Frequently   0.712363    +\n",
       "EducationField_Other               0.649821    -\n",
       "JobSatisfaction                    0.632795    -\n",
       "MaritalStatus_Married              0.630615    -\n",
       "JobRole_Research Scientist         0.618562    -\n",
       "EducationField_Medical             0.587746    -\n",
       "JobRole_Manufacturing Director     0.571330    -\n",
       "JobInvolvement                     0.553612    -\n",
       "EducationField_Life Sciences       0.552549    -\n",
       "RelationshipSatisfaction           0.527512    -\n",
       "YearsSinceLastPromotion            0.495417    +\n",
       "JobRole_Healthcare Representative  0.471573    -\n",
       "MonthlyIncome                      0.445104    -\n",
       "YearsInCurrentRole                 0.443136    -\n",
       "TotalWorkingYears                  0.431795    -\n",
       "Gender                             0.427182    +\n",
       "DistanceFromHome                   0.405573    +\n",
       "JobRole_Research Director          0.400083    -\n",
       "NumCompaniesWorked                 0.376632    +\n",
       "YearsWithCurrManager               0.326962    -\n",
       "StockOptionLevel                   0.254243    -\n",
       "WorkLifeBalance                    0.231282    -"
      ]
     },
     "execution_count": 38,
     "metadata": {},
     "output_type": "execute_result"
    }
   ],
   "source": [
    "df2 =pd.DataFrame(index=rfecv_cols_to_keep,columns=['coef'])\n",
    "df2['coef'] = new_list\n",
    "df2['role'] = new_list2\n",
    "df2.sort_values(by ='coef', ascending = False)"
   ]
  },
  {
   "cell_type": "markdown",
   "metadata": {},
   "source": [
    "On constate que 11 variables influencent positivement le score d'attrition, cad qu'elles sont prédominante dans la décision de quitter l'entreprise."
   ]
  },
  {
   "cell_type": "code",
   "execution_count": 39,
   "metadata": {},
   "outputs": [
    {
     "data": {
      "text/plain": [
       "Index(['DistanceFromHome', 'EnvironmentSatisfaction', 'Gender',\n",
       "       'JobInvolvement', 'JobSatisfaction', 'MonthlyIncome',\n",
       "       'NumCompaniesWorked', 'OverTime', 'RelationshipSatisfaction',\n",
       "       'StockOptionLevel', 'TotalWorkingYears', 'WorkLifeBalance',\n",
       "       'YearsInCurrentRole', 'YearsSinceLastPromotion', 'YearsWithCurrManager',\n",
       "       'BusinessTravel_Non-Travel', 'BusinessTravel_Travel_Frequently',\n",
       "       'EducationField_Life Sciences', 'EducationField_Medical',\n",
       "       'EducationField_Other', 'JobRole_Healthcare Representative',\n",
       "       'JobRole_Manufacturing Director', 'JobRole_Research Director',\n",
       "       'JobRole_Research Scientist', 'JobRole_Sales Representative',\n",
       "       'MaritalStatus_Divorced', 'MaritalStatus_Married'],\n",
       "      dtype='object')"
      ]
     },
     "execution_count": 39,
     "metadata": {},
     "output_type": "execute_result"
    }
   ],
   "source": [
    "df2.index"
   ]
  },
  {
   "cell_type": "markdown",
   "metadata": {},
   "source": [
    "### Coefficients liés aux différentes variables"
   ]
  },
  {
   "cell_type": "code",
   "execution_count": 40,
   "metadata": {},
   "outputs": [],
   "source": [
    "coef_dict = {}\n",
    "for idx, i in enumerate(columns_list):\n",
    "    coef_dict[i] = round(my_model.coef_.item(idx), 5)\n",
    "#     print(\"La variable {} a un β égal à {:.5f}\".format(i, my_model.coef_.item(idx)))"
   ]
  },
  {
   "cell_type": "code",
   "execution_count": 41,
   "metadata": {},
   "outputs": [
    {
     "name": "stdout",
     "output_type": "stream",
     "text": [
      "1. La variable OverTime a un β égal à 1.09117\n",
      "2. La variable BusinessTravel_Travel_Frequently a un β égal à 0.78792\n",
      "3. La variable DistanceFromHome a un β égal à 0.53821\n",
      "4. La variable NumCompaniesWorked a un β égal à 0.43221\n",
      "5. La variable YearsSinceLastPromotion a un β égal à 0.41139\n",
      "6. La variable Gender a un β égal à 0.33428\n",
      "7. La variable YearsAtCompany a un β égal à 0.32583\n",
      "8. La variable EducationField_Human Resources a un β égal à 0.22994\n",
      "9. La variable JobRole_Sales Representative a un β égal à 0.20964\n",
      "10. La variable HourlyRate a un β égal à 0.13041\n",
      "11. La variable PercentSalaryHike a un β égal à 0.11692\n",
      "12. La variable Age a un β égal à 0.11510\n",
      "13. La variable Department_Sales a un β égal à 0.08781\n",
      "14. La variable MonthlyRate a un β égal à 0.07991\n",
      "15. La variable Department_Research & Development a un β égal à 0.06590\n",
      "16. La variable JobRole_Sales Executive a un β égal à 0.02364\n",
      "17. La variable EducationField_Technical Degree a un β égal à -0.00066\n",
      "18. La variable BusinessTravel_Travel_Rarely a un β égal à -0.02000\n",
      "19. La variable JobRole_Manager a un β égal à -0.02535\n",
      "20. La variable JobLevel a un β égal à -0.08845\n",
      "21. La variable JobRole_Human Resources a un β égal à -0.12030\n",
      "22. La variable JobRole_Laboratory Technician a un β égal à -0.15304\n",
      "23. La variable Department_Human Resources a un β égal à -0.15371\n",
      "24. La variable EducationField_Marketing a un β égal à -0.15606\n",
      "25. La variable WorkLifeBalance a un β égal à -0.17072\n",
      "26. La variable TrainingTimesLastYear a un β égal à -0.20398\n",
      "27. La variable DailyRate a un β égal à -0.21229\n",
      "28. La variable Education a un β égal à -0.27419\n",
      "29. La variable JobRole_Research Director a un β égal à -0.27708\n",
      "30. La variable JobRole_Manufacturing Director a un β égal à -0.33756\n",
      "31. La variable PerformanceRating a un β égal à -0.36681\n",
      "32. La variable MaritalStatus_Single a un β égal à -0.39145\n",
      "33. La variable TotalWorkingYears a un β égal à -0.41220\n",
      "34. La variable JobRole_Healthcare Representative a un β égal à -0.41610\n",
      "35. La variable YearsWithCurrManager a un β égal à -0.43950\n",
      "36. La variable StockOptionLevel a un β égal à -0.46879\n",
      "37. La variable EducationField_Medical a un β égal à -0.49764\n",
      "38. La variable JobSatisfaction a un β égal à -0.50617\n",
      "39. La variable MaritalStatus_Divorced a un β égal à -0.51757\n",
      "40. La variable RelationshipSatisfaction a un β égal à -0.51861\n",
      "41. La variable JobInvolvement a un β égal à -0.53053\n",
      "42. La variable EnvironmentSatisfaction a un β égal à -0.55424\n",
      "43. La variable JobRole_Research Scientist a un β égal à -0.62752\n",
      "44. La variable EducationField_Other a un β égal à -0.63613\n",
      "45. La variable MonthlyIncome a un β égal à -0.66132\n",
      "46. La variable EducationField_Life Sciences a un β égal à -0.66316\n",
      "47. La variable YearsInCurrentRole a un β égal à -0.70962\n",
      "48. La variable BusinessTravel_Non-Travel a un β égal à -0.76792\n",
      "49. La variable MaritalStatus_Married a un β égal à -0.81467\n"
     ]
    }
   ],
   "source": [
    "sorted_dict = {}\n",
    "sorted_keys = sorted(coef_dict, key=coef_dict.get, reverse=True)\n",
    "\n",
    "for w in sorted_keys:\n",
    "    sorted_dict[w] = coef_dict[w]\n",
    "\n",
    "keys_list = list(sorted_dict)\n",
    "\n",
    "for index, key in enumerate(sorted_dict):\n",
    "      print(\"{}. La variable {} a un β égal à {:.5f}\".format(index+1, key, coef_dict[key]))"
   ]
  },
  {
   "cell_type": "markdown",
   "metadata": {},
   "source": [
    "On constate que 16 variables influencent positivement le score d'attrition, cad qu'elles sont prédominante dans la décision de quitter l'entreprise."
   ]
  }
 ],
 "metadata": {
  "kernelspec": {
   "display_name": "Python 3",
   "language": "python",
   "name": "python3"
  },
  "language_info": {
   "codemirror_mode": {
    "name": "ipython",
    "version": 3
   },
   "file_extension": ".py",
   "mimetype": "text/x-python",
   "name": "python",
   "nbconvert_exporter": "python",
   "pygments_lexer": "ipython3",
   "version": "3.8.5"
  }
 },
 "nbformat": 4,
 "nbformat_minor": 2
}
