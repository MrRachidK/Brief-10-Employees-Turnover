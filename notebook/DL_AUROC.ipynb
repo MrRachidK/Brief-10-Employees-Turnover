{
 "cells": [
  {
   "cell_type": "code",
   "execution_count": 1,
   "metadata": {},
   "outputs": [],
   "source": [
    "import pandas as pd \n",
    "import matplotlib.pyplot as plt\n",
    "import seaborn as sns\n",
    "import numpy as np\n",
    "\n",
    "from sklearn.model_selection import train_test_split\n",
    "from sklearn.preprocessing import StandardScaler, OneHotEncoder\n",
    "from sklearn.impute import SimpleImputer\n",
    "from sklearn.pipeline import make_pipeline\n",
    "from sklearn.compose import make_column_transformer"
   ]
  },
  {
   "cell_type": "markdown",
   "metadata": {},
   "source": [
    "### importation de  la donnée de prédictions"
   ]
  },
  {
   "cell_type": "code",
   "execution_count": 2,
   "metadata": {},
   "outputs": [],
   "source": [
    "pred_init = pd.read_csv('/home/apprenant/PycharmProjects/Brief-10-Employees-Turnover/data/attrition_test.csv')\n",
    "train_init = pd.read_csv('/home/apprenant/PycharmProjects/Brief-10-Employees-Turnover/data/attrition_train.csv')"
   ]
  },
  {
   "cell_type": "code",
   "execution_count": 3,
   "metadata": {},
   "outputs": [],
   "source": [
    "pred = pred_init.drop(['EmployeeCount','EmployeeNumber','Over18','StandardHours'], axis =1)\n",
    "train = train_init.drop(['EmployeeCount','EmployeeNumber','Over18','StandardHours'], axis =1)"
   ]
  },
  {
   "cell_type": "code",
   "execution_count": 4,
   "metadata": {},
   "outputs": [
    {
     "name": "stdout",
     "output_type": "stream",
     "text": [
      "(1100, 31)\n"
     ]
    }
   ],
   "source": [
    "print(train.shape)"
   ]
  },
  {
   "cell_type": "markdown",
   "metadata": {},
   "source": [
    "### modification de la donnée"
   ]
  },
  {
   "cell_type": "code",
   "execution_count": 5,
   "metadata": {},
   "outputs": [],
   "source": [
    "X = train.copy()\n",
    "y = X.pop('Attrition')"
   ]
  },
  {
   "cell_type": "code",
   "execution_count": 6,
   "metadata": {},
   "outputs": [],
   "source": [
    "y = y.map(dict(Yes=1, No=0)).astype('int64')"
   ]
  },
  {
   "cell_type": "code",
   "execution_count": 7,
   "metadata": {},
   "outputs": [
    {
     "name": "stdout",
     "output_type": "stream",
     "text": [
      "Index(['Age', 'DailyRate', 'DistanceFromHome', 'Education',\n",
      "       'EnvironmentSatisfaction', 'HourlyRate', 'JobInvolvement', 'JobLevel',\n",
      "       'JobSatisfaction', 'MonthlyIncome', 'MonthlyRate', 'NumCompaniesWorked',\n",
      "       'PercentSalaryHike', 'PerformanceRating', 'RelationshipSatisfaction',\n",
      "       'StockOptionLevel', 'TotalWorkingYears', 'TrainingTimesLastYear',\n",
      "       'WorkLifeBalance', 'YearsAtCompany', 'YearsInCurrentRole',\n",
      "       'YearsSinceLastPromotion', 'YearsWithCurrManager'],\n",
      "      dtype='object')\n"
     ]
    }
   ],
   "source": [
    "num = X.select_dtypes(include = [\"float64\",\"int64\"])\n",
    "features_num = num.columns\n",
    "print(features_num)"
   ]
  },
  {
   "cell_type": "code",
   "execution_count": 8,
   "metadata": {},
   "outputs": [
    {
     "name": "stdout",
     "output_type": "stream",
     "text": [
      "Index(['BusinessTravel', 'Department', 'EducationField', 'Gender', 'JobRole',\n",
      "       'MaritalStatus', 'OverTime'],\n",
      "      dtype='object')\n"
     ]
    }
   ],
   "source": [
    "cat = X.select_dtypes(include = [\"object\"])\n",
    "features_cat = cat.columns\n",
    "print(features_cat)"
   ]
  },
  {
   "cell_type": "code",
   "execution_count": 9,
   "metadata": {},
   "outputs": [],
   "source": [
    "transformer_num = make_pipeline(\n",
    "    SimpleImputer(strategy=\"constant\"), # there are a few missing values\n",
    "    StandardScaler(),\n",
    ")\n",
    "transformer_cat = make_pipeline(\n",
    "    SimpleImputer(strategy=\"constant\", fill_value=\"NA\"),\n",
    "    OneHotEncoder(handle_unknown='ignore'),\n",
    ")\n"
   ]
  },
  {
   "cell_type": "code",
   "execution_count": 10,
   "metadata": {},
   "outputs": [],
   "source": [
    "\n",
    "preprocessor = make_column_transformer(\n",
    "    (transformer_num, features_num),\n",
    "    (transformer_cat, features_cat),\n",
    ")\n",
    "\n",
    "# stratify - make sure classes are evenlly represented across splits\n",
    "X_train, X_valid, y_train, y_valid = \\\n",
    "    train_test_split(X, y, stratify=y, train_size=0.75)\n",
    "\n",
    "X_train = preprocessor.fit_transform(X_train)\n",
    "X_valid = preprocessor.transform(X_valid)\n",
    "\n",
    "input_shape = [X_train.shape[1]]"
   ]
  },
  {
   "cell_type": "code",
   "execution_count": 11,
   "metadata": {},
   "outputs": [
    {
     "name": "stdout",
     "output_type": "stream",
     "text": [
      "[51]\n"
     ]
    }
   ],
   "source": [
    "print(input_shape)"
   ]
  },
  {
   "cell_type": "markdown",
   "metadata": {},
   "source": [
    "### création du model"
   ]
  },
  {
   "cell_type": "code",
   "execution_count": 12,
   "metadata": {},
   "outputs": [],
   "source": [
    "from tensorflow import keras\n",
    "from tensorflow.keras import layers\n",
    "\n",
    "model = keras.Sequential([\n",
    "    layers.BatchNormalization(input_shape=input_shape),\n",
    "    layers.Dense(512, activation='relu'),\n",
    "    layers.BatchNormalization(),\n",
    "    layers.Dense(512, activation='relu'),\n",
    "    layers.BatchNormalization(),\n",
    "    layers.Dense(512, activation='relu'),\n",
    "    layers.BatchNormalization(),\n",
    "    layers.Dense(1, activation='sigmoid'),\n",
    "])\n"
   ]
  },
  {
   "cell_type": "code",
   "execution_count": 13,
   "metadata": {},
   "outputs": [],
   "source": [
    "model.compile(\n",
    "    optimizer='adam',\n",
    "    loss='binary_crossentropy',\n",
    "    metrics=[keras.metrics.AUC()],\n",
    ")"
   ]
  },
  {
   "cell_type": "code",
   "execution_count": 14,
   "metadata": {},
   "outputs": [
    {
     "name": "stdout",
     "output_type": "stream",
     "text": [
      "Epoch 1/20\n",
      "2/2 [==============================] - 2s 620ms/step - loss: 0.8694 - auc: 0.6079 - val_loss: 0.6466 - val_auc: 0.8091\n",
      "Epoch 2/20\n",
      "2/2 [==============================] - 0s 54ms/step - loss: 0.5995 - auc: 0.9463 - val_loss: 0.6815 - val_auc: 0.7615\n",
      "Epoch 3/20\n",
      "2/2 [==============================] - 0s 53ms/step - loss: 0.4436 - auc: 0.9846 - val_loss: 0.6527 - val_auc: 0.8010\n",
      "Epoch 4/20\n",
      "2/2 [==============================] - 0s 54ms/step - loss: 0.3239 - auc: 0.9977 - val_loss: 0.6368 - val_auc: 0.8017\n",
      "Epoch 5/20\n",
      "2/2 [==============================] - 0s 55ms/step - loss: 0.2574 - auc: 0.9994 - val_loss: 0.6214 - val_auc: 0.8121\n",
      "Epoch 6/20\n",
      "2/2 [==============================] - 0s 52ms/step - loss: 0.2003 - auc: 1.0000 - val_loss: 0.6018 - val_auc: 0.8262\n",
      "Epoch 7/20\n",
      "2/2 [==============================] - 0s 56ms/step - loss: 0.1682 - auc: 1.0000 - val_loss: 0.5819 - val_auc: 0.8352\n",
      "Epoch 8/20\n",
      "2/2 [==============================] - 0s 57ms/step - loss: 0.1288 - auc: 0.9999 - val_loss: 0.5622 - val_auc: 0.8367\n",
      "Epoch 9/20\n",
      "2/2 [==============================] - 0s 53ms/step - loss: 0.1009 - auc: 1.0000 - val_loss: 0.5416 - val_auc: 0.8320\n",
      "Epoch 10/20\n",
      "2/2 [==============================] - 0s 58ms/step - loss: 0.0791 - auc: 1.0000 - val_loss: 0.5195 - val_auc: 0.8311\n",
      "Epoch 11/20\n",
      "2/2 [==============================] - 0s 58ms/step - loss: 0.0699 - auc: 1.0000 - val_loss: 0.4973 - val_auc: 0.8305\n",
      "Epoch 12/20\n",
      "2/2 [==============================] - 0s 56ms/step - loss: 0.0565 - auc: 1.0000 - val_loss: 0.4768 - val_auc: 0.8303\n",
      "Epoch 13/20\n",
      "2/2 [==============================] - 0s 56ms/step - loss: 0.0461 - auc: 1.0000 - val_loss: 0.4575 - val_auc: 0.8318\n",
      "Epoch 14/20\n",
      "2/2 [==============================] - 0s 54ms/step - loss: 0.0387 - auc: 1.0000 - val_loss: 0.4410 - val_auc: 0.8316\n",
      "Epoch 15/20\n",
      "2/2 [==============================] - 0s 55ms/step - loss: 0.0338 - auc: 1.0000 - val_loss: 0.4253 - val_auc: 0.8320\n",
      "Epoch 16/20\n",
      "2/2 [==============================] - 0s 52ms/step - loss: 0.0248 - auc: 1.0000 - val_loss: 0.4112 - val_auc: 0.8303\n",
      "Epoch 17/20\n",
      "2/2 [==============================] - 0s 52ms/step - loss: 0.0234 - auc: 1.0000 - val_loss: 0.3968 - val_auc: 0.8300\n",
      "Epoch 18/20\n",
      "2/2 [==============================] - 0s 62ms/step - loss: 0.0168 - auc: 1.0000 - val_loss: 0.3834 - val_auc: 0.8333\n",
      "Epoch 19/20\n",
      "2/2 [==============================] - 0s 55ms/step - loss: 0.0185 - auc: 1.0000 - val_loss: 0.3717 - val_auc: 0.8371\n",
      "Epoch 20/20\n",
      "2/2 [==============================] - 0s 57ms/step - loss: 0.0138 - auc: 1.0000 - val_loss: 0.3618 - val_auc: 0.8365\n"
     ]
    }
   ],
   "source": [
    "early_stopping = keras.callbacks.EarlyStopping(\n",
    "    patience=5,\n",
    "    min_delta=0.001,\n",
    "    restore_best_weights=True,\n",
    ")\n",
    "history = model.fit(\n",
    "    X_train, y_train,\n",
    "    validation_data=(X_valid, y_valid),\n",
    "    batch_size=500,\n",
    "    epochs=20,\n",
    "    callbacks=[early_stopping],\n",
    ")\n",
    "\n",
    "history_df = pd.DataFrame(history.history)\n",
    "\n",
    "# print(history_df.head())"
   ]
  },
  {
   "cell_type": "code",
   "execution_count": 15,
   "metadata": {},
   "outputs": [
    {
     "name": "stdout",
     "output_type": "stream",
     "text": [
      "Best Validation Loss: 0.3618\n",
      "Best Validation Accuracy: 0.8371\n"
     ]
    }
   ],
   "source": [
    "print((\"Best Validation Loss: {:0.4f}\" +\\\n",
    "      \"\\nBest Validation Accuracy: {:0.4f}\")\\\n",
    "      .format(history_df['val_loss'].min(), \n",
    "              history_df['val_auc'].max()))"
   ]
  },
  {
   "cell_type": "code",
   "execution_count": 16,
   "metadata": {},
   "outputs": [
    {
     "data": {
      "text/plain": [
       "<AxesSubplot:title={'center':'AUC'}>"
      ]
     },
     "execution_count": 16,
     "metadata": {},
     "output_type": "execute_result"
    },
    {
     "data": {
      "image/png": "[encoded data removed]",
      "text/plain": [
       "<Figure size 432x288 with 1 Axes>"
      ]
     },
     "metadata": {
      "needs_background": "light"
     },
     "output_type": "display_data"
    },
    {
     "data": {
      "image/png": "[encoded data removed]",
      "text/plain": [
       "<Figure size 432x288 with 1 Axes>"
      ]
     },
     "metadata": {
      "needs_background": "light"
     },
     "output_type": "display_data"
    }
   ],
   "source": [
    "history_df.loc[:, ['loss', 'val_loss']].plot(title=\"binary_crossentropy\")\n",
    "history_df.loc[:, ['auc', 'val_auc']].plot(title=\"AUC\")"
   ]
  },
  {
   "cell_type": "markdown",
   "metadata": {},
   "source": [
    "# prediction"
   ]
  },
  {
   "cell_type": "code",
   "execution_count": 17,
   "metadata": {},
   "outputs": [],
   "source": [
    "pred = preprocessor.fit_transform(pred)"
   ]
  },
  {
   "cell_type": "code",
   "execution_count": 18,
   "metadata": {},
   "outputs": [],
   "source": [
    "prediction = model.predict(pred)"
   ]
  },
  {
   "cell_type": "code",
   "execution_count": 19,
   "metadata": {},
   "outputs": [],
   "source": [
    "nb_zero = 0\n",
    "nb_un = 0\n",
    "for i in range(len(prediction)):\n",
    "    if prediction[i] < 0.5:\n",
    "        prediction[i]=0\n",
    "        nb_zero +=1\n",
    "    else:\n",
    "        prediction[i]=1\n",
    "        nb_un +=1"
   ]
  },
  {
   "cell_type": "code",
   "execution_count": 20,
   "metadata": {},
   "outputs": [
    {
     "name": "stdout",
     "output_type": "stream",
     "text": [
      "nb de zero : 357\n",
      "nb de un : 13\n"
     ]
    }
   ],
   "source": [
    "print(\"nb de zero :\",nb_zero)\n",
    "print(\"nb de un :\",nb_un)"
   ]
  },
  {
   "cell_type": "code",
   "execution_count": null,
   "metadata": {},
   "outputs": [],
   "source": []
  }
 ],
 "metadata": {
  "kernelspec": {
   "display_name": "Python 3",
   "language": "python",
   "name": "python3"
  },
  "language_info": {
   "codemirror_mode": {
    "name": "ipython",
    "version": 3
   },
   "file_extension": ".py",
   "mimetype": "text/x-python",
   "name": "python",
   "nbconvert_exporter": "python",
   "pygments_lexer": "ipython3",
   "version": "3.8.5"
  }
 },
 "nbformat": 4,
 "nbformat_minor": 4
}
