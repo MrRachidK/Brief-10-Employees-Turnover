{
 "cells": [
  {
   "cell_type": "code",
   "execution_count": 1,
   "metadata": {},
   "outputs": [],
   "source": [
    "import pandas as pd \n",
    "import matplotlib.pyplot as plt\n",
    "import seaborn as sns\n",
    "\n",
    "from sklearn.model_selection import train_test_split\n",
    "from sklearn.preprocessing import StandardScaler, OneHotEncoder\n",
    "from sklearn.impute import SimpleImputer\n",
    "from sklearn.pipeline import make_pipeline\n",
    "from sklearn.compose import make_column_transformer"
   ]
  },
  {
   "cell_type": "markdown",
   "metadata": {},
   "source": [
    "### importation de  la donnée de prédictions"
   ]
  },
  {
   "cell_type": "code",
   "execution_count": 2,
   "metadata": {},
   "outputs": [],
   "source": [
    "pred_init = pd.read_csv('/home/apprenant/PycharmProjects/Brief-10-Employees-Turnover/data/attrition_test.csv')\n",
    "train_init = pd.read_csv('/home/apprenant/PycharmProjects/Brief-10-Employees-Turnover/data/attrition_train.csv')"
   ]
  },
  {
   "cell_type": "code",
   "execution_count": 3,
   "metadata": {},
   "outputs": [],
   "source": [
    "pred = pred_init.drop(['EmployeeCount','EmployeeNumber','Over18','StandardHours'], axis =1)\n",
    "train = train_init.drop(['EmployeeCount','EmployeeNumber','Over18','StandardHours'], axis =1)"
   ]
  },
  {
   "cell_type": "code",
   "execution_count": 4,
   "metadata": {},
   "outputs": [
    {
     "name": "stdout",
     "output_type": "stream",
     "text": [
      "(1100, 31)\n"
     ]
    }
   ],
   "source": [
    "print(train.shape)"
   ]
  },
  {
   "cell_type": "markdown",
   "metadata": {},
   "source": [
    "### modification de la donnée"
   ]
  },
  {
   "cell_type": "code",
   "execution_count": 5,
   "metadata": {},
   "outputs": [],
   "source": [
    "X = train.copy()\n",
    "y = X.pop('Attrition')"
   ]
  },
  {
   "cell_type": "code",
   "execution_count": 6,
   "metadata": {},
   "outputs": [],
   "source": [
    "y = y.map(dict(Yes=1, No=0)).astype('int64')"
   ]
  },
  {
   "cell_type": "code",
   "execution_count": 7,
   "metadata": {},
   "outputs": [
    {
     "name": "stdout",
     "output_type": "stream",
     "text": [
      "Index(['Age', 'DailyRate', 'DistanceFromHome', 'Education',\n",
      "       'EnvironmentSatisfaction', 'HourlyRate', 'JobInvolvement', 'JobLevel',\n",
      "       'JobSatisfaction', 'MonthlyIncome', 'MonthlyRate', 'NumCompaniesWorked',\n",
      "       'PercentSalaryHike', 'PerformanceRating', 'RelationshipSatisfaction',\n",
      "       'StockOptionLevel', 'TotalWorkingYears', 'TrainingTimesLastYear',\n",
      "       'WorkLifeBalance', 'YearsAtCompany', 'YearsInCurrentRole',\n",
      "       'YearsSinceLastPromotion', 'YearsWithCurrManager'],\n",
      "      dtype='object')\n"
     ]
    }
   ],
   "source": [
    "num = X.select_dtypes(include = [\"float64\",\"int64\"])\n",
    "features_num = num.columns\n",
    "print(features_num)"
   ]
  },
  {
   "cell_type": "code",
   "execution_count": 8,
   "metadata": {},
   "outputs": [
    {
     "name": "stdout",
     "output_type": "stream",
     "text": [
      "Index(['BusinessTravel', 'Department', 'EducationField', 'Gender', 'JobRole',\n",
      "       'MaritalStatus', 'OverTime'],\n",
      "      dtype='object')\n"
     ]
    }
   ],
   "source": [
    "cat = X.select_dtypes(include = [\"object\"])\n",
    "features_cat = cat.columns\n",
    "print(features_cat)"
   ]
  },
  {
   "cell_type": "code",
   "execution_count": 9,
   "metadata": {},
   "outputs": [],
   "source": [
    "transformer_num = make_pipeline(\n",
    "    SimpleImputer(strategy=\"constant\"), # there are a few missing values\n",
    "    StandardScaler(),\n",
    ")\n",
    "transformer_cat = make_pipeline(\n",
    "    SimpleImputer(strategy=\"constant\", fill_value=\"NA\"),\n",
    "    OneHotEncoder(handle_unknown='ignore'),\n",
    ")\n"
   ]
  },
  {
   "cell_type": "code",
   "execution_count": 10,
   "metadata": {},
   "outputs": [],
   "source": [
    "\n",
    "preprocessor = make_column_transformer(\n",
    "    (transformer_num, features_num),\n",
    "    (transformer_cat, features_cat),\n",
    ")\n",
    "\n",
    "# stratify - make sure classes are evenlly represented across splits\n",
    "X_train, X_valid, y_train, y_valid = \\\n",
    "    train_test_split(X, y, stratify=y, train_size=0.75)\n",
    "\n",
    "X_train = preprocessor.fit_transform(X_train)\n",
    "X_valid = preprocessor.transform(X_valid)\n",
    "\n",
    "input_shape = [X_train.shape[1]]"
   ]
  },
  {
   "cell_type": "code",
   "execution_count": 11,
   "metadata": {},
   "outputs": [
    {
     "name": "stdout",
     "output_type": "stream",
     "text": [
      "[51]\n"
     ]
    }
   ],
   "source": [
    "print(input_shape)"
   ]
  },
  {
   "cell_type": "markdown",
   "metadata": {},
   "source": [
    "### création du model"
   ]
  },
  {
   "cell_type": "code",
   "execution_count": 12,
   "metadata": {},
   "outputs": [],
   "source": [
    "from tensorflow import keras\n",
    "from tensorflow.keras import layers\n",
    "\n",
    "model = keras.Sequential([\n",
    "    layers.BatchNormalization(input_shape=input_shape),\n",
    "    layers.Dense(500, activation='relu'),\n",
    "    layers.BatchNormalization(),\n",
    "    layers.Dense(500, activation='relu'),\n",
    "    layers.BatchNormalization(),\n",
    "    layers.Dense(500, activation='relu'),\n",
    "    layers.BatchNormalization(),\n",
    "    layers.Dense(1, activation='sigmoid'),\n",
    "])\n"
   ]
  },
  {
   "cell_type": "code",
   "execution_count": 13,
   "metadata": {},
   "outputs": [],
   "source": [
    "model.compile(\n",
    "    optimizer='adam',\n",
    "    loss='binary_crossentropy',\n",
    "    metrics=[keras.metrics.AUC()],\n",
    ")"
   ]
  },
  {
   "cell_type": "code",
   "execution_count": 14,
   "metadata": {},
   "outputs": [
    {
     "name": "stdout",
     "output_type": "stream",
     "text": [
      "Epoch 1/20\n",
      "2/2 [==============================] - 2s 597ms/step - loss: 0.8473 - auc: 0.6287 - val_loss: 0.7507 - val_auc: 0.7334\n",
      "Epoch 2/20\n",
      "2/2 [==============================] - 0s 52ms/step - loss: 0.5883 - auc: 0.9439 - val_loss: 0.7320 - val_auc: 0.7511\n",
      "Epoch 3/20\n",
      "2/2 [==============================] - 0s 58ms/step - loss: 0.3699 - auc: 0.9896 - val_loss: 0.6968 - val_auc: 0.7622\n",
      "Epoch 4/20\n",
      "2/2 [==============================] - 0s 59ms/step - loss: 0.2829 - auc: 0.9980 - val_loss: 0.6979 - val_auc: 0.7749\n",
      "Epoch 5/20\n",
      "2/2 [==============================] - 0s 53ms/step - loss: 0.2292 - auc: 0.9995 - val_loss: 0.6772 - val_auc: 0.7777\n",
      "Epoch 6/20\n",
      "2/2 [==============================] - 0s 54ms/step - loss: 0.1643 - auc: 0.9997 - val_loss: 0.6520 - val_auc: 0.7849\n",
      "Epoch 7/20\n",
      "2/2 [==============================] - 0s 52ms/step - loss: 0.1211 - auc: 0.9998 - val_loss: 0.6321 - val_auc: 0.7897\n",
      "Epoch 8/20\n",
      "2/2 [==============================] - 0s 53ms/step - loss: 0.1006 - auc: 0.9999 - val_loss: 0.6058 - val_auc: 0.7914\n",
      "Epoch 9/20\n",
      "2/2 [==============================] - 0s 56ms/step - loss: 0.0839 - auc: 1.0000 - val_loss: 0.5739 - val_auc: 0.7888\n",
      "Epoch 10/20\n",
      "2/2 [==============================] - 0s 55ms/step - loss: 0.0616 - auc: 1.0000 - val_loss: 0.5438 - val_auc: 0.7880\n",
      "Epoch 11/20\n",
      "2/2 [==============================] - 0s 52ms/step - loss: 0.0509 - auc: 1.0000 - val_loss: 0.5161 - val_auc: 0.7958\n",
      "Epoch 12/20\n",
      "2/2 [==============================] - 0s 52ms/step - loss: 0.0413 - auc: 1.0000 - val_loss: 0.4917 - val_auc: 0.8057\n",
      "Epoch 13/20\n",
      "2/2 [==============================] - 0s 54ms/step - loss: 0.0364 - auc: 1.0000 - val_loss: 0.4691 - val_auc: 0.8087\n",
      "Epoch 14/20\n",
      "2/2 [==============================] - 0s 51ms/step - loss: 0.0265 - auc: 1.0000 - val_loss: 0.4491 - val_auc: 0.8055\n",
      "Epoch 15/20\n",
      "2/2 [==============================] - 0s 57ms/step - loss: 0.0241 - auc: 1.0000 - val_loss: 0.4322 - val_auc: 0.8035\n",
      "Epoch 16/20\n",
      "2/2 [==============================] - 0s 62ms/step - loss: 0.0212 - auc: 1.0000 - val_loss: 0.4183 - val_auc: 0.8025\n",
      "Epoch 17/20\n",
      "2/2 [==============================] - 0s 61ms/step - loss: 0.0177 - auc: 1.0000 - val_loss: 0.4059 - val_auc: 0.8036\n",
      "Epoch 18/20\n",
      "2/2 [==============================] - 0s 64ms/step - loss: 0.0144 - auc: 1.0000 - val_loss: 0.3948 - val_auc: 0.8071\n",
      "Epoch 19/20\n",
      "2/2 [==============================] - 0s 59ms/step - loss: 0.0142 - auc: 1.0000 - val_loss: 0.3853 - val_auc: 0.8036\n",
      "Epoch 20/20\n",
      "2/2 [==============================] - 0s 58ms/step - loss: 0.0106 - auc: 1.0000 - val_loss: 0.3779 - val_auc: 0.8007\n",
      "       loss       auc  val_loss   val_auc\n",
      "0  0.836114  0.661155  0.750696  0.733422\n",
      "1  0.562071  0.952816  0.732048  0.751082\n",
      "2  0.363562  0.990491  0.696750  0.762249\n",
      "3  0.281298  0.998385  0.697939  0.774941\n",
      "4  0.219353  0.999590  0.677240  0.777696\n"
     ]
    }
   ],
   "source": [
    "early_stopping = keras.callbacks.EarlyStopping(\n",
    "    patience=5,\n",
    "    min_delta=0.001,\n",
    "    restore_best_weights=True,\n",
    ")\n",
    "history = model.fit(\n",
    "    X_train, y_train,\n",
    "    validation_data=(X_valid, y_valid),\n",
    "    batch_size=500,\n",
    "    epochs=20,\n",
    "    callbacks=[early_stopping],\n",
    ")\n",
    "\n",
    "history_df = pd.DataFrame(history.history)\n",
    "\n",
    "print(history_df.head())"
   ]
  },
  {
   "cell_type": "code",
   "execution_count": 15,
   "metadata": {},
   "outputs": [
    {
     "data": {
      "text/plain": [
       "<AxesSubplot:title={'center':'AUC'}>"
      ]
     },
     "execution_count": 15,
     "metadata": {},
     "output_type": "execute_result"
    },
    {
     "data": {
      "image/png": "[encoded data removed]",
      "text/plain": [
       "<Figure size 432x288 with 1 Axes>"
      ]
     },
     "metadata": {
      "needs_background": "light"
     },
     "output_type": "display_data"
    },
    {
     "data": {
      "image/png": "[encoded data removed]",
      "text/plain": [
       "<Figure size 432x288 with 1 Axes>"
      ]
     },
     "metadata": {
      "needs_background": "light"
     },
     "output_type": "display_data"
    }
   ],
   "source": [
    "history_df.loc[:, ['loss', 'val_loss']].plot(title=\"binary_crossentropy\")\n",
    "history_df.loc[:, ['auc', 'val_auc']].plot(title=\"AUC\")"
   ]
  },
  {
   "cell_type": "code",
   "execution_count": null,
   "metadata": {},
   "outputs": [],
   "source": []
  }
 ],
 "metadata": {
  "kernelspec": {
   "display_name": "Python 3",
   "language": "python",
   "name": "python3"
  },
  "language_info": {
   "codemirror_mode": {
    "name": "ipython",
    "version": 3
   },
   "file_extension": ".py",
   "mimetype": "text/x-python",
   "name": "python",
   "nbconvert_exporter": "python",
   "pygments_lexer": "ipython3",
   "version": "3.8.5"
  }
 },
 "nbformat": 4,
 "nbformat_minor": 4
}
